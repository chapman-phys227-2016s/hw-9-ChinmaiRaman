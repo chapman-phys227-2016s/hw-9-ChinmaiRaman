{
 "cells": [
  {
   "cell_type": "code",
   "execution_count": 2,
   "metadata": {
    "collapsed": false
   },
   "outputs": [],
   "source": [
    "import numpy as np\n",
    "import subprocess as sb\n",
    "\n",
    "import Backward2 as p1\n",
    "import MCint_class as p2"
   ]
  },
  {
   "cell_type": "markdown",
   "metadata": {},
   "source": [
    "# Homework 9\n",
    "\n",
    "## Chinmai Raman\n",
    "## 5/8/2016\n",
    "\n",
    "## 9.11 Implementing a new sublcass for differentiation\n",
    "\n",
    "The table below explores the differences in accuracy between a one-sided three-point, second-order differentiating formula (Backward2) and a two-point, second-order differentiating formula (Backward1) at different values of h"
   ]
  },
  {
   "cell_type": "code",
   "execution_count": 3,
   "metadata": {
    "collapsed": false
   },
   "outputs": [
    {
     "name": "stdout",
     "output_type": "stream",
     "text": [
      "     h        Backward2       Backward2:error Backward1       Backward1:error\n",
      "  1.00E+00 -2.42035607E-01    7.57964393E-01 -1.71828183E+00   -7.18281828E-01\n",
      "  5.00E-01 -8.76603254E-01    1.23396746E-01 -1.29744254E+00   -2.97442541E-01\n",
      "  2.50E-01 -9.74760792E-01    2.52392079E-02 -1.13610167E+00   -1.36101667E-01\n",
      "  1.25E-01 -9.94273582E-01    5.72641768E-03 -1.06518762E+00   -6.51876245E-02\n",
      "  6.25E-02 -9.98635061E-01    1.36493916E-03 -1.03191134E+00   -3.19113427E-02\n",
      "  3.12E-02 -9.99666737E-01    3.33262743E-04 -1.01578904E+00   -1.57890400E-02\n",
      "  1.56E-02 -9.99917659E-01    8.23408755E-05 -1.00785335E+00   -7.85334955E-03\n",
      "  7.81E-03 -9.99979535E-01    2.04646972E-05 -1.00391644E+00   -3.91644243E-03\n",
      "  3.91E-03 -9.99994899E-01    5.10119145E-06 -1.00195567E+00   -1.95567062E-03\n",
      "  1.95E-03 -9.99998727E-01    1.27343014E-06 -1.00097720E+00   -9.77198593E-04\n",
      "  9.77E-04 -9.99999682E-01    3.18124421E-07 -1.00048844E+00   -4.88440234E-04\n",
      "  4.88E-04 -9.99999920E-01    7.95016604E-08 -1.00024418E+00   -2.44180366E-04\n",
      "  2.44E-04 -9.99999980E-01    1.98724592E-08 -1.00012208E+00   -1.22080247E-04\n",
      "  1.22E-04 -9.99999995E-01    4.96947905E-09 -1.00006104E+00   -6.10376392E-05\n",
      "  6.10E-05 -9.99999999E-01    1.23691279E-09 -1.00003052E+00   -3.05182002E-05\n"
     ]
    }
   ],
   "source": [
    "p1.main()"
   ]
  },
  {
   "cell_type": "markdown",
   "metadata": {},
   "source": [
    "## 9.14 Adding a new class in a class hierarchy- Monte Carlo integration\n",
    "\n",
    "$\\int_{0}^{10} 2x dx = 100$"
   ]
  },
  {
   "cell_type": "code",
   "execution_count": 10,
   "metadata": {
    "collapsed": false
   },
   "outputs": [
    {
     "data": {
      "text/plain": [
       "100.02050093582082"
      ]
     },
     "execution_count": 10,
     "metadata": {},
     "output_type": "execute_result"
    }
   ],
   "source": [
    "def f(x): return 2 * x\n",
    "montecarlo = p2.MCint_vec(0, 10, 3575000)\n",
    "montecarlo.construct_method(f, 1000000)"
   ]
  }
 ],
 "metadata": {
  "kernelspec": {
   "display_name": "Python 2 (SageMath)",
   "language": "python",
   "name": "python2"
  },
  "language_info": {
   "codemirror_mode": {
    "name": "ipython",
    "version": 2
   },
   "file_extension": ".py",
   "mimetype": "text/x-python",
   "name": "python",
   "nbconvert_exporter": "python",
   "pygments_lexer": "ipython2",
   "version": "2.7.10"
  }
 },
 "nbformat": 4,
 "nbformat_minor": 0
}
